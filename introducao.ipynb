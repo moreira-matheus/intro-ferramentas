{
 "cells": [
  {
   "cell_type": "markdown",
   "metadata": {},
   "source": [
    "<img src=\"imagens/cabeçalho.png\">\n"
   ]
  },
  {
   "cell_type": "markdown",
   "metadata": {},
   "source": [
    "## Introdução às ferramentas\n",
    "\n",
    "- **[Colab Reserach Google](https://colab.research.google.com/)** — É uma ferramenta da Google que permite escrever e executar código Python daí mesmo do seu navegador, sem precisar instalar nada.\n",
    "\n",
    "\n",
    "- **[Python](https://python.org.br/)** — É uma linguagem de programação que tem entre seus princípios a legibilidade e permite fazer uma série de tarefas de forma bem simples."
   ]
  },
  {
   "cell_type": "markdown",
   "metadata": {},
   "source": [
    "<img src=\"imagens/1.png\">\n"
   ]
  },
  {
   "cell_type": "markdown",
   "metadata": {},
   "source": [
    "### Definindo uma lista"
   ]
  },
  {
   "cell_type": "code",
   "execution_count": 12,
   "metadata": {},
   "outputs": [],
   "source": [
    "lista = [1, 2, 3, 4, 5]"
   ]
  },
  {
   "cell_type": "markdown",
   "metadata": {},
   "source": [
    "### Imprimindo a lista"
   ]
  },
  {
   "cell_type": "code",
   "execution_count": 14,
   "metadata": {},
   "outputs": [
    {
     "name": "stdout",
     "output_type": "stream",
     "text": [
      "[1, 2, 3, 4, 5]\n"
     ]
    }
   ],
   "source": [
    "print(lista)"
   ]
  },
  {
   "cell_type": "markdown",
   "metadata": {},
   "source": [
    "### Imprimindo os itens da lista ao quadrado"
   ]
  },
  {
   "cell_type": "code",
   "execution_count": 15,
   "metadata": {},
   "outputs": [
    {
     "name": "stdout",
     "output_type": "stream",
     "text": [
      "1\n",
      "4\n",
      "9\n",
      "16\n",
      "25\n"
     ]
    }
   ],
   "source": [
    "for item in lista:\n",
    "    quadrado = item * item\n",
    "    print(quadrado)"
   ]
  },
  {
   "cell_type": "markdown",
   "metadata": {},
   "source": [
    "### Imprimindo os itens da lista ao quadrado diretamente na função `print()`"
   ]
  },
  {
   "cell_type": "code",
   "execution_count": 16,
   "metadata": {},
   "outputs": [
    {
     "name": "stdout",
     "output_type": "stream",
     "text": [
      "1\n",
      "4\n",
      "9\n",
      "16\n",
      "25\n"
     ]
    }
   ],
   "source": [
    "for item in lista:\n",
    "    print(item*item)"
   ]
  },
  {
   "cell_type": "markdown",
   "metadata": {},
   "source": [
    "### Somando os itens da lista"
   ]
  },
  {
   "cell_type": "code",
   "execution_count": 17,
   "metadata": {},
   "outputs": [
    {
     "name": "stdout",
     "output_type": "stream",
     "text": [
      "15\n"
     ]
    }
   ],
   "source": [
    "soma = 0\n",
    "\n",
    "for item in lista:\n",
    "    soma = soma + item \n",
    "\n",
    "print(soma)"
   ]
  },
  {
   "cell_type": "markdown",
   "metadata": {},
   "source": [
    "<img src=\"imagens/2.png\">\n"
   ]
  },
  {
   "cell_type": "markdown",
   "metadata": {},
   "source": [
    "- **Notebook ou [Jupyter Notebook](https://jupyter.org/)**: Ferramenta que permite a visualização de códigos, imagens, gifs, texto e equações. E tambem permite a execução do código, exibindo o resultado tudo no mesmo documento."
   ]
  },
  {
   "cell_type": "markdown",
   "metadata": {},
   "source": [
    "### Alguns exemplos sobre como escrever simbolos e fórmulas:\n",
    "- [Motivating Examples - Documentação do Jupyter Notebook](https://jupyter-notebook.readthedocs.io/en/stable/examples/Notebook/Typesetting%20Equations.html)\n",
    "- [Lista de symbolos e fórmulas - Archer Reilly](https://csrgxtu.github.io/2015/03/20/Writing-Mathematic-Fomulars-in-Markdown/)"
   ]
  },
  {
   "cell_type": "markdown",
   "metadata": {},
   "source": [
    "$\\sqrt{k}$"
   ]
  },
  {
   "cell_type": "markdown",
   "metadata": {},
   "source": [
    "$\\sqrt[n]{k}$"
   ]
  },
  {
   "cell_type": "markdown",
   "metadata": {},
   "source": [
    "$a^{2}=b^{2}+c^{2}$"
   ]
  },
  {
   "cell_type": "markdown",
   "metadata": {},
   "source": [
    "$\\int\\limits_a^b$"
   ]
  },
  {
   "cell_type": "markdown",
   "metadata": {},
   "source": [
    "$\\displaystyle\\sum_{i=1}^{10} t_i$"
   ]
  },
  {
   "cell_type": "markdown",
   "metadata": {},
   "source": [
    "\\begin{equation*}\n",
    "1 +  \\frac{q^2}{(1-q)}+\\frac{q^6}{(1-q)(1-q^2)}+\\cdots =\n",
    "\\prod_{j=0}^{\\infty}\\frac{1}{(1-q^{5j+2})(1-q^{5j+3})},\n",
    "\\quad\\quad \\text{for } |q|<1.\n",
    "\\end{equation*}"
   ]
  },
  {
   "cell_type": "markdown",
   "metadata": {},
   "source": [
    "### Adicionando Gifs e Imagens"
   ]
  },
  {
   "cell_type": "markdown",
   "metadata": {},
   "source": [
    "<img src=\"https://media.giphy.com/media/LqZZp4y9ANZIcQzuXC/giphy.gif\" align=\"left\">\n"
   ]
  },
  {
   "cell_type": "markdown",
   "metadata": {},
   "source": [
    "<img src=\"imagens/3.png\">\n"
   ]
  },
  {
   "cell_type": "markdown",
   "metadata": {},
   "source": [
    "\n",
    "- **[Markdown](https://docs.pipz.com/central-de-ajuda/learning-center/guia-basico-de-markdown#open)** — É uma linguagem de marcação de texto que serve para facilitar a escrita de texto na web. É o que usamos para escrever os textos em um Jupyter Notebook.\n",
    "\n",
    "> **Esse é um exemplo de escrita usando a linguagem de marcação [HTML](https://developer.mozilla.org/pt-BR/docs/Web/HTML)** (Que é o que está por trás de todos os sites que acessamos).\n",
    "> Escrita:\n",
    "\n",
    ">```\n",
    "> <h1>Título</h1>\n",
    "> <h2>Título menor</h2>\n",
    "> <h3>Título menor ainda</h3> ```\n",
    "\n",
    "> Resultado:\n",
    "> <h1>Título</h1> \n",
    "> <h2>Título menor</h2> \n",
    "> <h3>Título menor ainda</h3>\n",
    "\n",
    "\n",
    "> **Esse é um exemplo usando Markdown.**\n",
    "\n",
    "> *Escrita:*\n",
    "> ``` \n",
    "> # Título\n",
    "> ## Título menor\n",
    "> ### Título menor ainda ```\n",
    "> *Resultado:*\n",
    "> # Título\n",
    "> ## Título menor\n",
    "> ### Título menor ainda"
   ]
  },
  {
   "cell_type": "markdown",
   "metadata": {},
   "source": [
    "### Listas \n",
    "\n",
    "- Item 1\n",
    "- Item 2\n",
    "- Item 3\n",
    "\n",
    "\n",
    "* Item 1\n",
    "* Item 2\n",
    "* Item 3"
   ]
  },
  {
   "cell_type": "markdown",
   "metadata": {},
   "source": [
    "### Listas enumeradas\n",
    "\n",
    "1. Item\n",
    "2. Item\n",
    "3. Item \n",
    "1. Item\n",
    "2. Item\n",
    "3. Item "
   ]
  },
  {
   "cell_type": "markdown",
   "metadata": {},
   "source": [
    "### Listas aninhadas \n",
    "\n",
    "- Item 1\n",
    "    - Item 2\n",
    "        - Item 3\n",
    "        \n",
    "        \n",
    "1. Item\n",
    "    1. Item\n",
    "        1. Item \n",
    "        2. Item "
   ]
  },
  {
   "cell_type": "markdown",
   "metadata": {},
   "source": [
    "### Links\n",
    "\n",
    "- [SoteroLab](https://github.com/soterolab/sobre)\n",
    "- [SoteroLab - Introdução a utilização do Google Colab com o Github](https://github.com/soterolab/intro-ferramentas)"
   ]
  },
  {
   "cell_type": "markdown",
   "metadata": {},
   "source": [
    "<img src=\"imagens/4.png\">\n"
   ]
  },
  {
   "cell_type": "markdown",
   "metadata": {},
   "source": [
    "- **[Github](https://github.com)** — É uma ferramenta para publicar, compartilhar e versionar arquivos, como textos e códigos. O Github se utiliza do [Git](https://git-scm.com/book/pt-br/v2/Come%C3%A7ando-Sobre-Controle-de-Vers%C3%A3o) para permitir o versionamento de arquivos. É esse versionamento que permite que a gente dê \"ctrl+z\" nos projetos, sistemas e textos.\n",
    "\n",
    "### Materiais de estudo para o Git/Github:\n",
    "\n",
    "- [Entenda as diferenças de Git, GitHub e GitLab | Charlotte Lorelei, Vanessa Tonini e\n",
    "Gabriel Ferreira canal Alura Cursos Online](https://www.youtube.com/watch?v=_i9DUJcn-mU)\n",
    "- [1.3 Começando - O Básico do Git](https://git-scm.com/book/pt-pt/v2/Come%C3%A7ando-O-B%C3%A1sico-do-Git)\n",
    "- [Git: guia prático - Roger Dudler](https://rogerdudler.github.io/git-guide/index.pt_BR.html)"
   ]
  }
 ],
 "metadata": {
  "kernelspec": {
   "display_name": "Python 3",
   "language": "python",
   "name": "python3"
  },
  "language_info": {
   "codemirror_mode": {
    "name": "ipython",
    "version": 3
   },
   "file_extension": ".py",
   "mimetype": "text/x-python",
   "name": "python",
   "nbconvert_exporter": "python",
   "pygments_lexer": "ipython3",
   "version": "3.6.10"
  }
 },
 "nbformat": 4,
 "nbformat_minor": 4
}
